{
 "cells": [
  {
   "cell_type": "code",
   "execution_count": 1,
   "id": "7cef0832",
   "metadata": {},
   "outputs": [],
   "source": [
    "import cv2"
   ]
  },
  {
   "cell_type": "code",
   "execution_count": 2,
   "id": "c0ab85ee",
   "metadata": {},
   "outputs": [],
   "source": [
    "image = cv2.imread(\"fruit.jpg\")"
   ]
  },
  {
   "cell_type": "code",
   "execution_count": 3,
   "id": "f8be41a7",
   "metadata": {},
   "outputs": [],
   "source": [
    "cv2.imshow(\"Fruit\", image)"
   ]
  },
  {
   "cell_type": "code",
   "execution_count": 4,
   "id": "62bc8ad7",
   "metadata": {},
   "outputs": [],
   "source": [
    "kiwi_image = cv2.cvtColor(image, cv2.COLOR_BGR2GRAY)"
   ]
  },
  {
   "cell_type": "code",
   "execution_count": 5,
   "id": "d791932a",
   "metadata": {},
   "outputs": [],
   "source": [
    "cv2.imshow(\"Fruit Kiwi\", kiwi_image)"
   ]
  },
  {
   "cell_type": "code",
   "execution_count": 6,
   "id": "8cbcfec5",
   "metadata": {},
   "outputs": [],
   "source": [
    "inv_image = 255 - kiwi_image"
   ]
  },
  {
   "cell_type": "code",
   "execution_count": 7,
   "id": "2e0e359b",
   "metadata": {},
   "outputs": [],
   "source": [
    "cv2.imshow(\"Inverted\", inv_image)"
   ]
  },
  {
   "cell_type": "code",
   "execution_count": 8,
   "id": "5e410fc3",
   "metadata": {},
   "outputs": [],
   "source": [
    "blurred = cv2.GaussianBlur(inv_image, (21, 21), 0)"
   ]
  },
  {
   "cell_type": "code",
   "execution_count": 9,
   "id": "5ef6ad3b",
   "metadata": {},
   "outputs": [],
   "source": [
    "inv_blurred = 255 - blurred"
   ]
  },
  {
   "cell_type": "code",
   "execution_count": 10,
   "id": "1ed7aab6",
   "metadata": {},
   "outputs": [],
   "source": [
    "pencil_sketch = cv2.divide(kiwi_image, inv_blurred, scale=256.0)"
   ]
  },
  {
   "cell_type": "code",
   "execution_count": 11,
   "id": "924400d7",
   "metadata": {},
   "outputs": [],
   "source": [
    "cv2.imshow(\"Sketch\", pencil_sketch)"
   ]
  },
  {
   "cell_type": "code",
   "execution_count": 12,
   "id": "70c80741",
   "metadata": {},
   "outputs": [],
   "source": [
    "cv2.imshow(\"original image\", image)"
   ]
  },
  {
   "cell_type": "code",
   "execution_count": 13,
   "id": "dfe89c25",
   "metadata": {},
   "outputs": [],
   "source": [
    "cv2.imshow(\"pencil sketch\", pencil_sketch)"
   ]
  },
  {
   "cell_type": "code",
   "execution_count": null,
   "id": "1b6ecd3c",
   "metadata": {},
   "outputs": [],
   "source": [
    "cv2.waitKey(0)"
   ]
  },
  {
   "cell_type": "code",
   "execution_count": null,
   "id": "36fd4dfc",
   "metadata": {},
   "outputs": [],
   "source": [
    "cv2.destroyAllWindows()"
   ]
  },
  {
   "cell_type": "code",
   "execution_count": null,
   "id": "772af577",
   "metadata": {},
   "outputs": [],
   "source": []
  }
 ],
 "metadata": {
  "kernelspec": {
   "display_name": "Python 3 (ipykernel)",
   "language": "python",
   "name": "python3"
  },
  "language_info": {
   "codemirror_mode": {
    "name": "ipython",
    "version": 3
   },
   "file_extension": ".py",
   "mimetype": "text/x-python",
   "name": "python",
   "nbconvert_exporter": "python",
   "pygments_lexer": "ipython3",
   "version": "3.9.12"
  }
 },
 "nbformat": 4,
 "nbformat_minor": 5
}
